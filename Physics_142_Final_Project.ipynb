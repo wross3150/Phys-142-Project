{
  "nbformat": 4,
  "nbformat_minor": 0,
  "metadata": {
    "colab": {
      "provenance": [],
      "toc_visible": true,
      "include_colab_link": true
    },
    "kernelspec": {
      "name": "python3",
      "display_name": "Python 3"
    },
    "language_info": {
      "name": "python"
    }
  },
  "cells": [
    {
      "cell_type": "markdown",
      "metadata": {
        "id": "view-in-github",
        "colab_type": "text"
      },
      "source": [
        "<a href=\"https://colab.research.google.com/github/wross3150/Phys-142-Project/blob/main/Physics_142_Final_Project.ipynb\" target=\"_parent\"><img src=\"https://colab.research.google.com/assets/colab-badge.svg\" alt=\"Open In Colab\"/></a>"
      ]
    },
    {
      "cell_type": "markdown",
      "source": [
        "# Setup"
      ],
      "metadata": {
        "id": "9JlLSiFOZ1rw"
      }
    },
    {
      "cell_type": "code",
      "execution_count": null,
      "metadata": {
        "id": "fPWG6TGoYi67"
      },
      "outputs": [],
      "source": [
        "import numpy as np\n",
        "import matplotlib.pyplot as plt\n",
        "import tqdm"
      ]
    },
    {
      "cell_type": "code",
      "source": [
        "# Constants\n",
        "MZ = 91.188  # GeV\n",
        "Gamma_Z = 2.4414  # GeV\n",
        "alpha = 1 / 132.507\n",
        "GF = 1.16639e-5  # GeV^-2\n",
        "sin2_thetaW = 0.222246\n",
        "GeV_to_pb = 3.894e8  # pb^-1\n",
        "kappa = np.sqrt(2) * GF * MZ**2 / (4 * np.pi * alpha)\n",
        "\n",
        "# Function to calculate A0 and A1\n",
        "def calculate_A0_A1(s_hat):\n",
        "    Qe = -1\n",
        "    Ve = -0.5 + 2 * sin2_thetaW\n",
        "    Ae = -0.5\n",
        "    Qmu = -1\n",
        "    Vmu = -0.5 + 2 * sin2_thetaW\n",
        "    Amu = -0.5\n",
        "    s = s_hat\n",
        "    A0 = Qe**2 - 2 * Qe * Vmu * Ve * chi1(s_hat) + (Amu**2 + Vmu**2) * (Ae**2 + Ve**2) * chi2(s_hat)\n",
        "    A1 = -4 * Qe * Ae * Amu * chi1(s_hat) + 8 * Amu * Vmu * Ae * Ve * chi2(s_hat)\n",
        "    return A0, A1\n",
        "\n",
        "# Functions to calculate chi1 and chi2\n",
        "def chi1(s_hat):\n",
        "    s = s_hat\n",
        "    return (kappa * s * (s - MZ**2)) / ((s - MZ**2)**2 + (Gamma_Z * MZ)**2)\n",
        "\n",
        "def chi2(s_hat):\n",
        "    s = s_hat\n",
        "    return kappa**2 * s**2 / ((s - MZ**2)**2 + (Gamma_Z * MZ)**2)\n",
        "\n",
        "def p(s_hat, cos_theta):\n",
        "  A0, A1 = calculate_A0_A1(s_hat)\n",
        "  return alpha**2 / (4 * s_hat) * (A0 * (1 + cos_theta**2) + A1 * cos_theta)"
      ],
      "metadata": {
        "id": "mbtsB03C9SMX"
      },
      "execution_count": null,
      "outputs": []
    },
    {
      "cell_type": "markdown",
      "source": [
        "# Define X, Y boundaries"
      ],
      "metadata": {
        "id": "hXzu-zRE-VeH"
      }
    },
    {
      "cell_type": "markdown",
      "source": [
        "Set $x = E_{CM}$ and $y = cos(\\theta)$"
      ],
      "metadata": {
        "id": "XhmPUkvQ-fjL"
      }
    },
    {
      "cell_type": "code",
      "source": [
        "X_MIN = 10\n",
        "X_MAX = 200\n",
        "Y_MIN = -1\n",
        "Y_MAX = 1\n",
        "\n",
        "X_MIN = -50\n",
        "X_MAX = 50\n",
        "Y_MIN = -5\n",
        "Y_MAX = 5\n",
        "\n",
        "#X = np.sqrt(s_hat)\n",
        "#Y = cos_theta"
      ],
      "metadata": {
        "id": "oIQsttgc-ZU4"
      },
      "execution_count": null,
      "outputs": []
    },
    {
      "cell_type": "markdown",
      "source": [
        "# Lego Plot"
      ],
      "metadata": {
        "id": "xLz-aErf-yYP"
      }
    },
    {
      "cell_type": "code",
      "source": [
        "def lego_plot(xAmplitudes, yAmplitudes, nBins, xLabel, yLabel, title):\n",
        "    x = np.array(xAmplitudes)  # turn x,y data into numpy arrays\n",
        "    y = np.array(yAmplitudes)  # useful for regular matplotlib arrays\n",
        "\n",
        "    fig = plt.figure()  # create a canvas, tell matplotlib it's 3d\n",
        "    ax = fig.add_subplot(111, projection=\"3d\")\n",
        "\n",
        "    # make histograms - set bins\n",
        "    hist, xedges, yedges = np.histogram2d(x, y, bins=(nBins, nBins))\n",
        "    xpos, ypos = np.meshgrid(xedges[:-1] + xedges[1:], yedges[:-1] + yedges[1:])\n",
        "\n",
        "    xpos = xpos.flatten() / 2.0\n",
        "    ypos = ypos.flatten() / 2.0\n",
        "    zpos = np.zeros_like(xpos)\n",
        "\n",
        "    dx = xedges[1] - xedges[0]\n",
        "    dy = yedges[1] - yedges[0]\n",
        "    dz = hist.flatten()\n",
        "\n",
        "    cmap = mpl.cm.jet\n",
        "    max_height = np.max(dz)  # get range of colorbars so we can normalize\n",
        "    min_height = np.min(dz)\n",
        "    # scale each z to [0,1], and get their rgb values\n",
        "    rgba = [cmap((k - min_height) / max_height) for k in dz]\n",
        "\n",
        "    ax.bar3d(xpos, ypos, zpos, dx, dy, dz, color=rgba, zsort=\"average\")\n",
        "    plt.title(title)\n",
        "    plt.xlabel(xLabel)\n",
        "    plt.ylabel(yLabel)\n",
        "    plt.xlim(XMIN, XMAX)\n",
        "    plt.ylim(YMIN, YMAX)\n",
        "    plt.show()"
      ],
      "metadata": {
        "id": "6XKk7GcK-xnc"
      },
      "execution_count": 26,
      "outputs": []
    },
    {
      "cell_type": "markdown",
      "source": [
        "# Find Maximum"
      ],
      "metadata": {
        "id": "DMGUeCz691qT"
      }
    },
    {
      "cell_type": "code",
      "source": [
        "def find_max(p, STEPS, X_HIT = (0.05 * 95), Y_HIT = 0.05):\n",
        "  E_vals = [np.random.rand() * (X_MAX - X_MIN) + X_MIN]\n",
        "  cos_vals = [np.random.rand() * (Y_MAX - Y_MIN) + Y_MIN]\n",
        "  prob_vals = [p(E_vals[0] ** 2, cos_vals[0])]\n",
        "  best = [E_vals[0], cos_vals[0], prob_vals[0]]\n",
        "  for i in range(STEPS):\n",
        "    E_diff = np.random.rand() *  X_HIT\n",
        "    cos_diff = np.random.rand() * Y_HIT\n",
        "    E_new = E_vals[-1] + E_diff\n",
        "    cos_new = cos_vals[-1] + cos_diff\n",
        "    new_prob = p(E_new ** 2, cos_new)\n",
        "    if new_prob > best[2]:\n",
        "      E_vals.append(E_new)\n",
        "      cos_vals.append(cos_new)\n",
        "      prob_vals.append(new_prob)\n",
        "      best = [E_new, cos_new, new_prob]\n",
        "    elif new_prob / prob_vals[-1] > np.random.rand():\n",
        "      E_vals.append(E_new)\n",
        "      cos_vals.append(cos_new)\n",
        "      prob_vals.append(new_prob)\n",
        "  return best, E_vals, cos_vals, prob_vals"
      ],
      "metadata": {
        "id": "dFpETIfe942G"
      },
      "execution_count": null,
      "outputs": []
    },
    {
      "cell_type": "code",
      "source": [
        "def f(x,y):\n",
        "  return -x**2 - y ** 2\n",
        "\n",
        "best, E_vals, cos_vals, prob_vals = find_max(f, 100000)"
      ],
      "metadata": {
        "id": "J4F4EWyd-2GZ"
      },
      "execution_count": null,
      "outputs": []
    },
    {
      "cell_type": "code",
      "source": [
        "best"
      ],
      "metadata": {
        "colab": {
          "base_uri": "https://localhost:8080/"
        },
        "id": "UZarsQx48QCX",
        "outputId": "904fb936-e3da-4fc1-87cf-b7980d79c951"
      },
      "execution_count": null,
      "outputs": [
        {
          "output_type": "execute_result",
          "data": {
            "text/plain": [
              "[-0.9337818649143586, -1.3246347059772756, -2.5149514151721033]"
            ]
          },
          "metadata": {},
          "execution_count": 19
        }
      ]
    },
    {
      "cell_type": "code",
      "source": [
        "fig = plt.figure()\n",
        "ax = fig.add_subplot(projection='3d')\n",
        "\n",
        "n = 100\n",
        "\n",
        "# For each set of style and range settings, plot n random points in the box\n",
        "# defined by x in [23, 32], y in [0, 100], z in [zlow, zhigh].\n",
        "#for m, zlow, zhigh in [('o', -50, -25), ('^', -30, -5)]:\n",
        "xs = E_vals\n",
        "ys = cos_vals\n",
        "zs = prob_vals\n",
        "ax.scatter(xs, ys, zs)\n",
        "\n",
        "ax.set_xlabel('X Label')\n",
        "ax.set_ylabel('Y Label')\n",
        "ax.set_zlabel('Z Label')\n",
        "\n",
        "plt.show()"
      ],
      "metadata": {
        "id": "kTXNeUzl8kDs"
      },
      "execution_count": null,
      "outputs": []
    },
    {
      "cell_type": "markdown",
      "source": [
        "# Problem A"
      ],
      "metadata": {
        "id": "uJek1TuVZ5m-"
      }
    },
    {
      "cell_type": "code",
      "source": [
        "def brute_force(nPoints, seed=None):\n",
        "    nFunctionEval = 0\n",
        "    yy1_rej_method = []\n",
        "    yy2_rej_method = []\n",
        "    maxWeightEncounteredRej = -1.0e20\n",
        "    generator = np.random.RandomState(seed=seed)\n",
        "    while len(yy1_rej_method) < nPoints:\n",
        "        rr = generator.uniform(size=3)\n",
        "        yy1, yy2 = XMIN + rr[0] * (XMAX - XMIN), YMIN + rr[1] * (YMAX - YMIN)\n",
        "        nFunctionEval += 1\n",
        "        f_val = f(yy1, yy2)\n",
        "        if f_val > maxWeightEncounteredRej:\n",
        "            maxWeightEncounteredRej = f_val\n",
        "        if f_val > F_VAL_MAX:\n",
        "            print(\n",
        "                f\" f_val={f_val} exceeds F_VAL_MAX={F_VAL_MAX}, program will now exit\"\n",
        "            )\n",
        "            exit(99)\n",
        "        if f_val / F_VAL_MAX > rr[2]:\n",
        "            yy1_rej_method.append(yy1)\n",
        "            yy2_rej_method.append(yy2)\n",
        "    return {\n",
        "        \"yy1\": yy1_rej_method,\n",
        "        \"yy2\": yy2_rej_method,\n",
        "        \"nFunEval\": nFunctionEval,\n",
        "        \"maxWeightEncountered\": maxWeightEncounteredRej,\n",
        "    }"
      ],
      "metadata": {
        "id": "qe7qHLExaFS0"
      },
      "execution_count": 27,
      "outputs": []
    },
    {
      "cell_type": "markdown",
      "source": [
        "# Problem B"
      ],
      "metadata": {
        "id": "Asjle1SjaGQC"
      }
    },
    {
      "cell_type": "markdown",
      "source": [
        "## Setup Intervals"
      ],
      "metadata": {
        "id": "kaITobbc_SGD"
      }
    },
    {
      "cell_type": "code",
      "source": [
        "def setup_intervals(NN=100, KK=2000, nIterations=4000, alpha_damp=1.5, seed=None):\n",
        "    \"\"\"\n",
        "    Input:\n",
        "        NN: Number of intervals in [XMIN, XMAX] or [YMIN, YMAX]\n",
        "        KK: function evaluations per iteration\n",
        "        nIterations: number of iterations\n",
        "        alpha_damp: damping parameter in the Vegas algorithm\n",
        "    Return:\n",
        "        Intervals specified by xLow, yLow: each is a 1D numpy array of size NN+1, with\n",
        "        xLow[0] = 0, xLow[NN] = ym; yLow[0] = 0, yLow[NN] = ym\n",
        "    \"\"\"\n",
        "\n",
        "    # intitial intervals: uniform intervals between XMIN/YMIN and XMAX/YMAX\n",
        "    xLow = XMIN + (XMAX - XMIN) / NN * np.arange(NN + 1)\n",
        "    delx = np.ones(NN) * (XMAX - XMIN) / NN\n",
        "    px = np.ones(NN) / (XMAX - XMIN)  # probability density in each interval\n",
        "    yLow = YMIN + YMAX / NN * np.arange(NN + 1)\n",
        "    dely = np.ones(NN) * (YMAX - YMIN) / NN\n",
        "    py = np.ones(NN) / (YMAX - YMIN)\n",
        "\n",
        "    generator = np.random.RandomState(seed=seed)\n",
        "    for _ in range(nIterations):\n",
        "        ixLow = generator.randint(0, NN, size=KK)\n",
        "        xx = xLow[ixLow] + delx[ixLow] * generator.uniform(size=KK)\n",
        "        iyLow = generator.randint(0, NN, size=KK)\n",
        "        yy = yLow[iyLow] + dely[iyLow] * generator.uniform(size=KK)\n",
        "        ff = f(xx, yy)\n",
        "        f2barx = np.array(\n",
        "            [sum((ff[ixLow == i] / py[iyLow[ixLow == i]]) ** 2) for i in range(NN)]\n",
        "        )\n",
        "        fbarx = np.sqrt(f2barx)\n",
        "        f2bary = np.array(\n",
        "            [sum((ff[iyLow == i] / px[ixLow[iyLow == i]]) ** 2) for i in range(NN)]\n",
        "        )\n",
        "        fbary = np.sqrt(f2bary)\n",
        "        fbardelxSum = np.sum(fbarx * delx)\n",
        "        fbardelySum = np.sum(fbary * dely)\n",
        "        logArgx = fbarx * delx / fbardelxSum\n",
        "        logArgy = fbary * dely / fbardelySum\n",
        "\n",
        "        \"\"\"mmx = KK * pow((logArgx - 1) / np.log(logArgx), alpha_damp)\n",
        "        mmx = mmx.astype(int)\n",
        "        mmx = np.where(mmx > 1, mmx, 1)\"\"\"\n",
        "        mmx = KK * logArgx\n",
        "        mmx = mmx.astype(int)\n",
        "        mmx = np.where(mmx > 1, mmx, 1)\n",
        "        \"\"\"mmy = KK * pow((logArgy - 1) / np.log(logArgy), alpha_damp)\n",
        "        mmy = mmy.astype(int)\n",
        "        mmy = np.where(mmy > 1, mmy, 1)\"\"\"\n",
        "        mmy = KK * logArgy\n",
        "        mmy = mmy.astype(int)\n",
        "        mmy = np.where(mmy > 1, mmy, 1)\n",
        "\n",
        "        xLowNew = [xLow[i] + np.arange(mmx[i]) * delx[i] / mmx[i] for i in range(NN)]\n",
        "        xLowNew = np.concatenate(xLowNew, axis=0)\n",
        "        yLowNew = [yLow[i] + np.arange(mmy[i]) * dely[i] / mmy[i] for i in range(NN)]\n",
        "        yLowNew = np.concatenate(yLowNew, axis=0)\n",
        "        nCombx = int(len(xLowNew) / NN)\n",
        "        nComby = int(len(yLowNew) / NN)\n",
        "        i = np.arange(NN)\n",
        "        xLow[:-1] = xLowNew[i * nCombx]\n",
        "        yLow[:-1] = yLowNew[i * nComby]\n",
        "        delx = np.diff(xLow)\n",
        "        dely = np.diff(yLow)\n",
        "        px = 1.0 / delx / NN\n",
        "        py = 1.0 / dely / NN\n",
        "\n",
        "    return xLow, yLow, delx, dely"
      ],
      "metadata": {
        "id": "aqUToJMW_OZu"
      },
      "execution_count": null,
      "outputs": []
    },
    {
      "cell_type": "markdown",
      "source": [
        "## Vegas"
      ],
      "metadata": {
        "id": "wliVXezL_XGX"
      }
    },
    {
      "cell_type": "code",
      "source": [
        "def vegas(\n",
        "    nPoints,\n",
        "    vegasRatioFactor,\n",
        "    NN=100,\n",
        "    KK=2000,\n",
        "    nIterations=4000,\n",
        "    alpha_damp=1.5,\n",
        "    seed=None,\n",
        "):\n",
        "    xLow, yLow, delx, dely = setup_intervals(NN, KK, nIterations, alpha_damp, seed)\n",
        "    vegasRatioMax = vegasRatioFactor * F_VAL_MAX * NN * NN * delx[NN - 2] * dely[NN - 2]\n",
        "    nFunctionEval = 0\n",
        "    yy1_vegas_method = []\n",
        "    yy2_vegas_method = []\n",
        "    yy1_vrho_method = []\n",
        "    yy2_vrho_method = []\n",
        "    maxWeightEncountered = -1.0e20\n",
        "\n",
        "    generator = np.random.RandomState(seed=seed)\n",
        "    while len(yy1_vegas_method) < nPoints:\n",
        "        ixLow = generator.randint(0, NN)\n",
        "        xx = xLow[ixLow] + delx[ixLow] * generator.uniform()\n",
        "        iyLow = generator.randint(0, NN)\n",
        "        yy = yLow[iyLow] + delx[iyLow] * generator.uniform()\n",
        "        yy1_vrho_method.append(xx)\n",
        "        yy2_vrho_method.append(yy)\n",
        "        nFunctionEval += 1\n",
        "        f_val = f(xx, yy)\n",
        "        ratio = f_val * NN * NN * delx[ixLow] * dely[iyLow]\n",
        "        if ratio > maxWeightEncountered:\n",
        "            maxWeightEncountered = ratio\n",
        "        if ratio > vegasRatioMax:\n",
        "            print(\n",
        "                f\"ratio={ratio} exceeds vegasRatioMax={vegasRatioMax}, yy={yy} program will now exit \"\n",
        "            )\n",
        "            exit(99)\n",
        "        if ratio / vegasRatioMax > generator.uniform():\n",
        "            yy1_vegas_method.append(xx)\n",
        "            yy2_vegas_method.append(yy)\n",
        "\n",
        "    return {\n",
        "        \"yy1vrho\": yy1_vrho_method,\n",
        "        \"yy2vrho\": yy2_vrho_method,\n",
        "        \"yy1vegas\": yy1_vegas_method,\n",
        "        \"yy2vegas\": yy2_vegas_method,\n",
        "        \"nFunEval\": nFunctionEval,\n",
        "        \"maxWeightEncountered\": maxWeightEncountered,\n",
        "        \"vegasRatioMax\": vegasRatioMax,\n",
        "    }"
      ],
      "metadata": {
        "id": "xX-bxyk3aHwY"
      },
      "execution_count": null,
      "outputs": []
    },
    {
      "cell_type": "markdown",
      "source": [
        "# Additional Code"
      ],
      "metadata": {
        "id": "t6WodmfN_cJe"
      }
    },
    {
      "cell_type": "code",
      "source": [],
      "metadata": {
        "id": "lQS2mO1Y_dyq"
      },
      "execution_count": null,
      "outputs": []
    }
  ]
}